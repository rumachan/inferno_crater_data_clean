{
 "cells": [
  {
   "cell_type": "markdown",
   "metadata": {},
   "source": [
    "# Check Waimangu Inferno water level data for input to FITS\n",
    "\n",
    "**This is for data from the 'existing' logger**\n",
    "\n",
    "* Read some data, view water level\n",
    "* Output records for times when overflowing\n",
    "* Deal with those 'outside' this Notebook"
   ]
  },
  {
   "cell_type": "code",
   "execution_count": null,
   "metadata": {},
   "outputs": [],
   "source": [
    "import pandas as pd\n",
    "import matplotlib.pyplot as plt\n",
    "import numpy as np\n",
    "%matplotlib inline"
   ]
  },
  {
   "cell_type": "code",
   "execution_count": null,
   "metadata": {},
   "outputs": [],
   "source": [
    "datafile = '2019.csv'\n",
    "overflow_file = '2019_overflow.csv'"
   ]
  },
  {
   "cell_type": "code",
   "execution_count": null,
   "metadata": {},
   "outputs": [],
   "source": [
    "names = ['dt', 'iftemp', 'ifwaterlevel', 'outlettemp', 'outletflow', 'calibval', 'overflowraw']\n",
    "df = pd.read_csv(datafile, names=names, parse_dates={\"Datetime\" : ['dt']})"
   ]
  },
  {
   "cell_type": "code",
   "execution_count": null,
   "metadata": {
    "scrolled": true
   },
   "outputs": [],
   "source": [
    "df.head()"
   ]
  },
  {
   "cell_type": "code",
   "execution_count": null,
   "metadata": {},
   "outputs": [],
   "source": [
    "fig = plt.figure(figsize=(25, 10))\n",
    "\n",
    "ax1 = fig.add_subplot(1, 1, 1)\n",
    "ax1.plot(df['Datetime'], df['ifwaterlevel'], marker='o', linestyle='None')\n",
    "\n",
    "# plt.savefig('2018_wl.png')"
   ]
  },
  {
   "cell_type": "markdown",
   "metadata": {},
   "source": [
    "**When outlettemp is t > 50, define this as overflow**"
   ]
  },
  {
   "cell_type": "code",
   "execution_count": null,
   "metadata": {},
   "outputs": [],
   "source": [
    "overflow = df[df['outlettemp']> 50]"
   ]
  },
  {
   "cell_type": "code",
   "execution_count": null,
   "metadata": {},
   "outputs": [],
   "source": [
    "overflow.to_csv(overflow_file)"
   ]
  },
  {
   "cell_type": "markdown",
   "metadata": {},
   "source": [
    "**Manually edit this file, keeping the first and last data for each overflow interval.**\n",
    "\n",
    "The file will look something like this\n",
    "\n",
    ",Datetime,iftemp,ifwaterlevel,outlettemp,outletflow,calibval,overflowraw\n",
    "315,2016-07-04 06:45:00,67.32,-0.819,51.65,0.0,7.489,8\n",
    "342,2016-07-04 13:30:00,-8190.0,-0.831,61.97,0.0,7.489,31\n",
    "624,2016-07-07 12:00:00,66.36,-0.794,55.44,0.0,7.489,25\n",
    "648,2016-07-07 18:00:00,71.02,-0.806,60.67,0.0,7.489,29\n",
    "9216,2016-10-05 00:00:00,65.85,-0.628,53.79,0.0,7.489,131\n",
    "9228,2016-10-05 03:00:00,66.35,-0.641,54.22,0.0,7.489,117\n",
    "9467,2016-10-07 15:00:00,60.06,-0.59,52.35,0.0,7.489,35\n",
    "9745,2016-10-10 12:30:00,-8190.0,-0.882,63.51,0.0,7.489,21\n",
    "14299,2016-11-26 23:00:00,71.08,-0.717,56.77,0.0,7.489,39\n",
    "14308,2016-11-27 01:15:00,69.84,-0.692,62.7,0.0,7.489,56\n",
    "16912,2016-12-24 04:15:00,62.25,-0.59,55.05,0.0,7.489,78\n",
    "16982,2016-12-24 21:45:00,73.67,-0.755,61.45,0.0,7.489,57\n",
    "17492,2016-12-30 05:15:00,62.8,-0.628,56.97,0.0,7.489,86\n",
    "17662,2016-12-31 23:45:00,81.1,-0.768,78.55,0.0,7.489,213\n",
    "\n",
    "Ten need to add the first and last times of the full data set at the start and end of the file, and give them the same data as the first and last overflows, respectively. This will work okay provided the corrections do not have large jumps"
   ]
  }
 ],
 "metadata": {
  "kernelspec": {
   "display_name": "Python 2",
   "language": "python",
   "name": "python2"
  },
  "language_info": {
   "codemirror_mode": {
    "name": "ipython",
    "version": 2
   },
   "file_extension": ".py",
   "mimetype": "text/x-python",
   "name": "python",
   "nbconvert_exporter": "python",
   "pygments_lexer": "ipython2",
   "version": "2.7.15"
  }
 },
 "nbformat": 4,
 "nbformat_minor": 2
}
